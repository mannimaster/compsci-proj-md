{
 "cells": [
  {
   "cell_type": "code",
   "execution_count": null,
   "metadata": {
    "collapsed": false
   },
   "outputs": [],
   "source": [
    "import numpy as np\n",
    "from boxvectors import directions as directions\n",
    "import Initial_Parameters as ip\n",
    "from md import System\n",
    "from md import md\n",
    "from distribution import maxwellboltzmann\n",
    "import matplotlib.pyplot as plt\n",
    "%matplotlib inline"
   ]
  },
  {
   "cell_type": "code",
   "execution_count": null,
   "metadata": {
    "collapsed": false
   },
   "outputs": [],
   "source": [
    "Symbols = ip.Symbols\n",
    "Coefficients = ip.Coefficients\n",
    "Charges = ip.Charges\n",
    "N = ip.N*np.sum(Coefficients)\n",
    "L = ip.L\n",
    "T = ip.T\n",
    "dt = ip.dt\n",
    "p_rea = ip.p_rea\n",
    "p = ip.p\n",
    "std = ip.std\n",
    "k_cut = ip.k_cut\n",
    "k_max = ip.k_max_long_range\n",
    "n_boxes_LJ = ip.n_boxes_LJ\n",
    "n_boxes_coulomb = ip.n_boxes_short_range\n",
    "Sys= System(Symbols, Coefficients, Charges, N/2)\n",
    "Labels = Sys.get_Labels()\n",
    "Sigma, Epsilon = Sys.get_LJ_parameter()\n",
    "\n",
    "m = Labels[:,0]"
   ]
  },
  {
   "cell_type": "code",
   "execution_count": null,
   "metadata": {
    "collapsed": true
   },
   "outputs": [],
   "source": [
    "switch_parameter = np.array([1,-1,0,0])\n",
    "r_switch = 1.5"
   ]
  },
  {
   "cell_type": "code",
   "execution_count": null,
   "metadata": {
    "collapsed": false
   },
   "outputs": [],
   "source": [
    "def get_random_starting_Positions(N,L):\n",
    "    Positions = np.zeros((N,3))\n",
    "    Positions[:,0] = np.linspace(0.1,L[0],N, endpoint = False)\n",
    "    Positions[:,1] = np.linspace(0.1,L[1],N, endpoint = False)\n",
    "    Positions[:,2] = np.linspace(0.1,L[2],N, endpoint = False)\n",
    "    np.random.shuffle(Positions[:,0])\n",
    "    np.random.shuffle(Positions[:,1])\n",
    "    np.random.shuffle(Positions[:,2])\n",
    "    return Positions\n",
    "Positions = get_random_starting_Positions(N,L)\n",
    "Velocities = maxwellboltzmann().sample_distribution(N,m,T)\n",
    "Forces = np.zeros((N,3))\n",
    "R = np.linalg.norm(Positions,axis=1)"
   ]
  },
  {
   "cell_type": "code",
   "execution_count": null,
   "metadata": {
    "collapsed": false
   },
   "outputs": [],
   "source": [
    "MD = md(\n",
    "    Positions, \n",
    "    R, \n",
    "    Labels, \n",
    "    Velocities,\n",
    "    Forces, \n",
    "    L, \n",
    "    T, \n",
    "    std, \n",
    "    Sigma, \n",
    "    Epsilon, \n",
    "    switch_parameter,\n",
    "    r_switch, \n",
    "    n_boxes_coulomb, \n",
    "    k_max, \n",
    "    dt, \n",
    "    p_rea)\n",
    "MD.forces = MD.get_forces()"
   ]
  }
 ],
 "metadata": {
  "anaconda-cloud": {},
  "kernelspec": {
   "display_name": "Python [conda root]",
   "language": "python",
   "name": "conda-root-py"
  },
  "language_info": {
   "codemirror_mode": {
    "name": "ipython",
    "version": 2
   },
   "file_extension": ".py",
   "mimetype": "text/x-python",
   "name": "python",
   "nbconvert_exporter": "python",
   "pygments_lexer": "ipython2",
   "version": "2.7.12"
  }
 },
 "nbformat": 4,
 "nbformat_minor": 1
}
