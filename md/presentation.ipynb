{
 "cells": [
  {
   "cell_type": "code",
   "execution_count": 5,
   "metadata": {
    "collapsed": false
   },
   "outputs": [],
   "source": [
    "import numpy as np\n",
    "from IPython.display import Image"
   ]
  },
  {
   "cell_type": "markdown",
   "metadata": {
    "slideshow": {
     "slide_type": "-"
    }
   },
   "source": [
    "# Project Molecular Dynamics"
   ]
  },
  {
   "cell_type": "markdown",
   "metadata": {},
   "source": [
    "\n"
   ]
  },
  {
   "cell_type": "markdown",
   "metadata": {
    "slideshow": {
     "slide_type": "slide"
    }
   },
   "source": [
    "# 1. Structure"
   ]
  },
  {
   "cell_type": "markdown",
   "metadata": {
    "nbpresent": {
     "id": "b29f4ecc-0599-47ef-814c-e6cab247b13f"
    },
    "slideshow": {
     "slide_type": "slide"
    }
   },
   "source": [
    "## 1.1 General Structure"
   ]
  },
  {
   "cell_type": "code",
   "execution_count": 6,
   "metadata": {
    "collapsed": false,
    "slideshow": {
     "slide_type": "slide"
    }
   },
   "outputs": [
    {
     "data": {
      "image/png": "[encoded data removed]",
      "text/plain": [
       "<IPython.core.display.Image object>"
      ]
     },
     "execution_count": 6,
     "metadata": {},
     "output_type": "execute_result"
    }
   ],
   "source": [
    "Image(filename='Class_Model.PNG')"
   ]
  },
  {
   "cell_type": "markdown",
   "metadata": {
    "nbpresent": {
     "id": "1738a7ec-e2ed-48f3-909a-c9d18831637f"
    },
    "slideshow": {
     "slide_type": "slide"
    }
   },
   "source": [
    "\n"
   ]
  },
  {
   "cell_type": "markdown",
   "metadata": {},
   "source": [
    "## 1.2 Input file"
   ]
  },
  {
   "cell_type": "code",
   "execution_count": 1,
   "metadata": {
    "collapsed": true
   },
   "outputs": [],
   "source": [
    "import numpy as np\n",
    "# Fill these before you start the Simulation\n",
    "\n",
    "#Substance to be simulated e.g NaCl \n",
    "Symbols = np.array(['Na','Cl'])\n",
    "\n",
    "#Stochiometric Coefficients e.g. Na_1_Cl_1\n",
    "Coefficients = np.array([1,1])\n",
    "\n",
    "#Atomic Charges e.g. Na_1+_Cl_1-\n",
    "Charges = np.array([1.0 ,-1.0])\n",
    "\n",
    "#Number of Particles\n",
    "N = 32\n",
    "\n",
    "#Boxsize\n",
    "L_x=2.256e-09\n",
    "L_y=2.256e-09\n",
    "L_z=2.256e-09\n",
    "\n",
    "\n",
    "#LJ Cutoff Radius\n",
    "r_cut_LJ = 0.4*L_x\n",
    "assert r_cut_LJ < L_x/2 \"LJ cutoff radius must be smaller than half the boxlength\"\n",
    "\n",
    "#Short-Range Potential Cutoff Radius\n",
    "r_cut_coulomb = 2*L_x\n",
    "\n",
    "#Accuracy Factor, the cutofferror is given by exp(-p)\n",
    "p_error = 10.0\n",
    "\n",
    "#Temperature \n",
    "T = 100 # Kelvin \n",
    "\n",
    "#Timestep\n",
    "dt = 1e-16 # .1 fs\n",
    "\n",
    "#Characetristic coupling time for Thermostat, must be larger than dt\n",
    "tau = 1e-13\n",
    "assert tau>dt, \"tau must be larger than dt\"\n",
    "\n",
    "#Switch Radius\n",
    "r_switch = r_cut_LJ*0.9\n",
    "assert r_switch < r_cut_LJ, \"switch radius must be smaller than LJ cutoff Radius\"\n",
    "\n",
    "# !!!  DO NOT CHANGE THESE LINES  !!!\n",
    "\n",
    "# Summarizing Dimension in one array\n",
    "L = np.array([L_x, L_y, L_z])\n",
    "\n",
    "#Reassignment Probability\n",
    "p_rea = dt/tau\n",
    "\n",
    "#number of Boxes to consider for LJ-Potential\n",
    "n_boxes_LJ = np.ceil(r_cut_LJ/np.max(L)).astype(int) "
   ]
  },
  {
   "cell_type": "markdown",
   "metadata": {},
   "source": [
    "\n"
   ]
  },
  {
   "cell_type": "markdown",
   "metadata": {
    "nbpresent": {
     "id": "a1126827-876e-4eba-855b-a6069345acf6"
    },
    "slideshow": {
     "slide_type": "slide"
    }
   },
   "source": [
    "## 1.3 Class \"System\""
   ]
  },
  {
   "cell_type": "markdown",
   "metadata": {
    "nbpresent": {
     "id": "2c26ca89-327d-49f5-bc41-cd8451d3d36b"
    },
    "slideshow": {
     "slide_type": "slide"
    }
   },
   "source": [
    "- get_Labels(self)\n",
    "\n",
    "\n",
    "- get_LJ_parameter(self)"
   ]
  },
  {
   "cell_type": "markdown",
   "metadata": {
    "nbpresent": {
     "id": "7c1892be-e0bc-458e-9342-dd49c16dd345"
    }
   },
   "source": [
    "\n"
   ]
  },
  {
   "cell_type": "markdown",
   "metadata": {
    "nbpresent": {
     "id": "1ad0d92c-438a-43fb-ac61-5a7cd020880d"
    }
   },
   "source": [
    "## 1.4 Class \"md\""
   ]
  },
  {
   "cell_type": "markdown",
   "metadata": {
    "nbpresent": {
     "id": "3481c0f0-9cd9-4854-917e-0f192e34d6dd"
    }
   },
   "source": [
    "### Functions available for user"
   ]
  },
  {
   "cell_type": "markdown",
   "metadata": {
    "nbpresent": {
     "id": "7fad07f3-0dba-47f1-8be6-bfe2e98b3f77"
    }
   },
   "source": [
    "- get_neighbourlist_coulomb(self)\n",
    "\n",
    "\n",
    "- get_neighbourlist_LJ(self)\n",
    "\n",
    "\n",
    "- get_potential(self)\n",
    "\n",
    "\n",
    "- get_energy(self)\n",
    "\n",
    "\n",
    "- get_forces(self)\n",
    "\n",
    "\n",
    "- get_Temperature(self)\n",
    "\n",
    "\n",
    "- propagate_system(self)\n",
    "\n",
    "\n",
    "- get_traj(self, N_steps, Energy_save, Temperature_save, Frame_save, path)\n",
    "\n",
    "\n",
    "- minmimize_Energy(self, N_steps, threshold, Energy_save, Frame_save, constant, path)"
   ]
  },
  {
   "cell_type": "markdown",
   "metadata": {
    "collapsed": true
   },
   "source": [
    "\n"
   ]
  },
  {
   "cell_type": "markdown",
   "metadata": {},
   "source": [
    "## 1.5 Class \"neighbourlist\""
   ]
  },
  {
   "cell_type": "markdown",
   "metadata": {},
   "source": [
    "- compute_neighbourlist(self, R, box_length, r_cutoff)"
   ]
  },
  {
   "cell_type": "markdown",
   "metadata": {},
   "source": [
    "Function returns list of neighbors within the cutoff radius for all particles:"
   ]
  },
  {
   "cell_type": "code",
   "execution_count": 1,
   "metadata": {
    "collapsed": true
   },
   "outputs": [],
   "source": [
    "def compute_neighbourlist(R, box_length, r_cutoff):\n",
    "    neighbors = {}\n",
    "    distances = {}\n",
    "    N, dim = np.shape(R)\n",
    "    # divide simulation box into small cells of equal size r_c >= r_cutoff\n",
    "    # (assume same size in all N dimensions)\n",
    "    n_cells = np.int(box_length / r_cutoff)\n",
    "    r_c = box_length / n_cells\n",
    "    head = [-1] * (n_cells)**3\n",
    "    cllist = [-1] * N\n",
    "    for i in range(N):\n",
    "        #empty list of neighbors\n",
    "        neighbors[i] = []\n",
    "        distances[i] = []\n",
    "        # cell index of particle by its position\n",
    "        x = np.int(R[i][0] / r_c)\n",
    "        y = np.int(R[i][1] / r_c)\n",
    "        z = np.int(R[i][2] / r_c)\n",
    "        cell_index = x*n_cells*n_cells + y*n_cells + z\n",
    "        cllist[i] = head[cell_index]\n",
    "        # The last one goes to the head\n",
    "        head[cell_index] = i\n",
    "        \n",
    "        # For all cells: Look for neighbors within neighboring cells\n",
    "        for cell in range(n_cells**3):\n",
    "            x = np.int(cell/(n_cells*n_cells)) % n_cells\n",
    "            y = np.int(cell/n_cells) % n_cells\n",
    "            z = cell % n_cells\n",
    "            \n",
    "            nb = np.empty(3)\n",
    "            r_shift = np.empty(3)\n",
    "            # Scan the neighboring cells (including itself)\n",
    "            nb[0] = x-1\n",
    "            nb[1] = y-1\n",
    "            nb[2] = z-1\n",
    "            for nbcell_ind in range(3**3):\n",
    "                if nbcell_ind != 0:\n",
    "                    nb[2] += 1\n",
    "                    if nbcell_ind % 3 == 0:\n",
    "                        nb[2] = z-1\n",
    "                        nb[1] += 1\n",
    "                    if nbcell_ind % 9 == 0:\n",
    "                        nb[1] = y-1\n",
    "                        nb[0] += 1\n",
    "\n",
    "                # Shift image position of simulation box?\n",
    "                for d in range(3):\n",
    "                    if (nb[d] < 0):\n",
    "                        r_shift[d] = -box_length\n",
    "                    elif (nb[d]>=n_cells):\n",
    "                        r_shift[d] = box_length\n",
    "                    else:\n",
    "                        r_shift[d] = 0.0\n",
    "                  \n",
    "                # Calculate cell index nbcell of neighbor cell\n",
    "                nbcell = np.int(((nb[0]+n_cells)%n_cells)* n_cells*n_cells\n",
    "                          + ((nb[1]+n_cells)%n_cells) * n_cells \n",
    "                          + ((nb[2]+n_cells)%n_cells))\n",
    "                # where % pulls index back into appr. range\n",
    "\n",
    "                # Scan particle i in cell \n",
    "                i = head[cell]\n",
    "                while(i != -1):\n",
    "                # Scan particle j in cell nbcell\n",
    "                    j = head[nbcell]\n",
    "                    while(j != -1):\n",
    "                    # Avoid double counting of pair (i, j)\n",
    "                        if (i<j):\n",
    "                            # dist of i, j smaller than cutoff?\n",
    "                            dist = np.linalg.norm(R[i]-(R[j]+r_shift))\n",
    "                            if (dist <= r_cutoff):\n",
    "                                neighbors[i].append(j)\n",
    "                                distances[i].append(dist)\n",
    "                                neighbors[j].append(i)\n",
    "                                distances[j].append(dist)\n",
    "\n",
    "\n",
    "                        j = cllist[j]\n",
    "                    i = cllist[i]\n",
    "                                    \n",
    "        return neighbors, distances"
   ]
  },
  {
   "cell_type": "code",
   "execution_count": 2,
   "metadata": {
    "collapsed": true
   },
   "outputs": [],
   "source": [
    "def naive_neighborlist(R, box_length, r_cutoff):\n",
    "    naiveneighbors = {}\n",
    "    distances = {}\n",
    "    dx = np.empty(3)\n",
    "    for i in range(N):\n",
    "        naiveneighbors[i] = []\n",
    "        distances[i] = []\n",
    "        for j in range(N):\n",
    "            d = 0.0\n",
    "            for x in range(3):\n",
    "                dx[x] = R[i][x]-R[j][x]\n",
    "                if (dx[x] < -box_length/2):\n",
    "                    dx[x] += box_length\n",
    "                elif (dx[x] > box_length/2):\n",
    "                    dx[x] -= box_length\n",
    "                    \n",
    "                d += dx[x]**2\n",
    "            d = np.sqrt(d)\n",
    "            if (d <= r_cutoff):\n",
    "                if (i>j):\n",
    "                    naiveneighbors[i].append(j)\n",
    "                    distances[i].append(d)\n",
    "                    naiveneighbors[j].append(i)\n",
    "                    distances[j].append(d)\n",
    "\n",
    "    return naiveneighbors, distances"
   ]
  },
  {
   "cell_type": "code",
   "execution_count": 3,
   "metadata": {
    "collapsed": false
   },
   "outputs": [
    {
     "name": "stdout",
     "output_type": "stream",
     "text": [
      "('cell list: ', '0.278773', 'seconds')\n",
      "('naive impl.: ', '1.018657', 'seconds')\n"
     ]
    }
   ],
   "source": [
    "import numpy as np\n",
    "import time\n",
    "N = 300\n",
    "R = np.random.rand(N,3)\n",
    "box_length = 1.0\n",
    "r_cutoff = 0.11\n",
    "\n",
    "a = time.clock()\n",
    "n1, dist1 = compute_neighbourlist(R, box_length, r_cutoff)\n",
    "b = time.clock()\n",
    "print(\"cell list: \", str(b-a), \"seconds\")\n",
    "\n",
    "c = time.clock()\n",
    "n2, dist2 = naive_neighborlist(R, box_length, r_cutoff)\n",
    "d = time.clock()\n",
    "print(\"naive impl.: \", str(d-c), \"seconds\")"
   ]
  },
  {
   "cell_type": "markdown",
   "metadata": {},
   "source": [
    "\n"
   ]
  },
  {
   "cell_type": "markdown",
   "metadata": {
    "collapsed": true
   },
   "source": [
    "## 1.6 Class \"directions\""
   ]
  },
  {
   "cell_type": "markdown",
   "metadata": {
    "collapsed": true
   },
   "source": [
    "- get_directions(self, n_boxes)"
   ]
  },
  {
   "cell_type": "code",
   "execution_count": 8,
   "metadata": {
    "collapsed": true
   },
   "outputs": [],
   "source": [
    "def get_directions(n_boxes):\n",
    "    \"\"\" Returns\n",
    "    -------------------\n",
    "    K (2*n_boxes+1)**3 x 3 Array\n",
    "    Each Row of the Array denotes a 1x3 Array that points to a unique dircetion\"\"\"\n",
    "        \n",
    "    assert type(n_boxes) is int, \"n_boxes must be an integer\"\n",
    "    # number of boxes in system (including all copies)\n",
    "    N_total_boxes = (2*n_boxes+1)**3\n",
    "    \n",
    "    # create natural numbers starting from 0 in decimal system\n",
    "    decimals = np.arange(N_total_boxes)\n",
    "    \n",
    "    # convert natural numbers to q-adic representation\n",
    "    base = (2*n_boxes+1)\n",
    "\n",
    "    K = np.zeros((N_total_boxes,3))\n",
    "\n",
    "    K[:,0] = np.floor(decimals/base**2)                      # q²\n",
    "    K[:,1] = np.floor((decimals - K[:,0]*base**2) / base)    # q¹\n",
    "    K[:,2] = decimals - K[:,0]*base**2 - K[:,1]*base         # q⁰\n",
    "\n",
    "    K -= n_boxes       # highest coefficient is number of boxes in one direction\n",
    "    return K"
   ]
  },
  {
   "cell_type": "code",
   "execution_count": 9,
   "metadata": {
    "collapsed": false
   },
   "outputs": [
    {
     "data": {
      "text/plain": [
       "array([[-1., -1., -1.],\n",
       "       [-1., -1.,  0.],\n",
       "       [-1., -1.,  1.],\n",
       "       [-1.,  0., -1.],\n",
       "       [-1.,  0.,  0.],\n",
       "       [-1.,  0.,  1.],\n",
       "       [-1.,  1., -1.],\n",
       "       [-1.,  1.,  0.],\n",
       "       [-1.,  1.,  1.],\n",
       "       [ 0., -1., -1.],\n",
       "       [ 0., -1.,  0.],\n",
       "       [ 0., -1.,  1.],\n",
       "       [ 0.,  0., -1.],\n",
       "       [ 0.,  0.,  0.],\n",
       "       [ 0.,  0.,  1.],\n",
       "       [ 0.,  1., -1.],\n",
       "       [ 0.,  1.,  0.],\n",
       "       [ 0.,  1.,  1.],\n",
       "       [ 1., -1., -1.],\n",
       "       [ 1., -1.,  0.],\n",
       "       [ 1., -1.,  1.],\n",
       "       [ 1.,  0., -1.],\n",
       "       [ 1.,  0.,  0.],\n",
       "       [ 1.,  0.,  1.],\n",
       "       [ 1.,  1., -1.],\n",
       "       [ 1.,  1.,  0.],\n",
       "       [ 1.,  1.,  1.]])"
      ]
     },
     "execution_count": 9,
     "metadata": {},
     "output_type": "execute_result"
    }
   ],
   "source": [
    "get_directions(1)"
   ]
  },
  {
   "cell_type": "markdown",
   "metadata": {},
   "source": [
    "\n"
   ]
  },
  {
   "cell_type": "markdown",
   "metadata": {},
   "source": [
    "### k-vectors"
   ]
  },
  {
   "cell_type": "markdown",
   "metadata": {},
   "source": [
    "$$ \\mathbf{k} = \\frac{2 \\pi}{L} \\left( \\begin{matrix} k_x \\\\k_y \\\\ k_z \\end{matrix} \\right) ~ ~ , ~ ~ k_x, k_y, k_z \\in \\mathbb{Z}  $$"
   ]
  },
  {
   "cell_type": "markdown",
   "metadata": {},
   "source": [
    "$$ k_{cut} = \\frac{2 \\pi}{L} \\sqrt{k_x^2 + k_y^2 + k_z^2}  $$"
   ]
  },
  {
   "cell_type": "markdown",
   "metadata": {},
   "source": [
    "$$ k_{max} = \\frac{k_{cut} L}{2 \\pi}       $$\n",
    "\n",
    "\n",
    "- delete (0,0,0)\n",
    "- delete all k-vectors longer than cutoff"
   ]
  },
  {
   "cell_type": "markdown",
   "metadata": {},
   "source": [
    "## 1.7 Class \"coulomb\""
   ]
  },
  {
   "cell_type": "markdown",
   "metadata": {
    "collapsed": true
   },
   "source": [
    "- compute_optimal_cutoff(self, Positions, Labels, L, p_error)\n",
    "\n",
    "\n",
    "\n",
    "- compute_potential(self,labels,positions, neighbours, distances)\n",
    "\n",
    "    short-range-potential + long-range-potential\n",
    "    \n",
    "    \n",
    "    \n",
    "- compute_energy(self,labels,positions, neighbours, distances)\n",
    "\n",
    "    short-range-energy + long-range-energy - self-energy\n",
    "    \n",
    "    \n",
    "    \n",
    "- compute_forces(self,Positions, Labels,L)\n",
    "    \n",
    "    short-range-forces + long-range-forces"
   ]
  },
  {
   "cell_type": "markdown",
   "metadata": {},
   "source": [
    "### optimal cutoff"
   ]
  },
  {
   "cell_type": "markdown",
   "metadata": {},
   "source": [
    "$$\n",
    "R_{opt} = \\left( \\frac{p}{\\pi} \\right)^\\frac{1}{2} \\cdot \\left( \\frac{t_k}{t_r} \\right)^\\frac{1}{6} \\cdot \\left( \\frac{L}{N^\\frac{1}{6}} \\right) \\\\\n",
    "with \\left( \\frac{t_k}{t_r} \\right) \\approx \\frac{T_k}{T_r} \\cdot \\frac{8 \\cdot \\pi \\cdot N^{2} \\cdot R_{cut}^{3}}{V \\cdot L^{3} \\cdot K_{cut}^{3}}  \n",
    "$$"
   ]
  },
  {
   "cell_type": "markdown",
   "metadata": {},
   "source": [
    "$$\n",
    "K_{opt} = \\frac{2 \\cdot p}{R_{opt}} \\\\\n",
    "\\sigma_{opt} = \\frac{\\sqrt{2 \\cdot p}}{K_{opt}}\n",
    "$$"
   ]
  },
  {
   "cell_type": "markdown",
   "metadata": {},
   "source": [
    "### 1.7.1 Short range potential and energy"
   ]
  },
  {
   "cell_type": "markdown",
   "metadata": {},
   "source": [
    "Add shit here (Henrik)"
   ]
  },
  {
   "cell_type": "markdown",
   "metadata": {},
   "source": [
    "Potential of the charge i at point  $\\vec{r}$:$$\\phi^S _i(\\vec{r}) = \\frac{q_i}{4\\pi\\epsilon _0|\\vec{r}_i-\\vec{r}|} \\left[ erfc\\left( \\frac{|\\vec{r}_i-\\vec{r}|}{\\sqrt{2}\\sigma}\\right)\\right]$$"
   ]
  },
  {
   "cell_type": "markdown",
   "metadata": {},
   "source": [
    "Potential at point  $\\vec{r}_i$:$$ \\phi^S \\color{red}{_i} = \\color{red}{\\sum_{j=1,j!=i}^{N}}\\frac{q_j}{4\\pi\\epsilon _0\\color{red}{|\\vec{r}_i-\\vec{r}_j|}} \\left[ erfc\\left( \\frac{\\color{red}{|\\vec{r}_i-\\vec{r}_j|}}{\\sqrt{2}\\sigma}\\right)\\right]$$"
   ]
  },
  {
   "cell_type": "markdown",
   "metadata": {},
   "source": [
    "Total Energy$$ E^S = \\frac{1}{\\color{red}{8}\\pi\\epsilon _0} \\color{red}{\\sum_{\\vec{n}}} \\sum_{i=1,i!=j}^{N} \\frac{\\color{red}{q_i} q_j}{|\\vec{r}_i-\\vec{r}_j|} \\left[ erfc\\left( \\frac{|\\vec{r}_i-\\vec{r}_j|}{\\sqrt{2}\\sigma}\\right)\\right]$$"
   ]
  },
  {
   "cell_type": "markdown",
   "metadata": {},
   "source": [
    "### 1.7.2 Long range potential and energy"
   ]
  },
  {
   "cell_type": "markdown",
   "metadata": {},
   "source": [
    "#### long range potential"
   ]
  },
  {
   "cell_type": "markdown",
   "metadata": {},
   "source": [
    "$$\n",
    "\\phi_L(r) = \\frac{1}{V \\cdot \\epsilon_0} \\cdot \\sum_{\\mathbf k} \\sum_{j=1}^{N} q_j \\cdot e^{i \\left< \\mathbf k, r\\right>} \\cdot e^{-i \\left< \\mathbf k, r_j\\right>} \\cdot \\frac{e^{\\frac{-\\sigma^{2} \\cdot k^{2}}{2}}}{k^{2}}\n",
    "$$"
   ]
  },
  {
   "cell_type": "code",
   "execution_count": null,
   "metadata": {
    "collapsed": true
   },
   "outputs": [],
   "source": [
    "vector = np.sum(np.square(self.k_list), axis = 1)"
   ]
  },
  {
   "cell_type": "markdown",
   "metadata": {},
   "source": [
    "$$\n",
    "\\begin{align*}\n",
    "vector = \\left( \\begin{matrix}\n",
    "k_{11}^{2} + k_{12}^{2} + k_{13}^{2} \\\\\n",
    "k_{21}^{2} + k_{22}^{2} + k_{23}^{2} \\\\\n",
    "\\vdots \\\\\n",
    "k_{m1}^{2} + k_{m2}^{2} + k_{m3}^{2}\n",
    "\\end{matrix} \\right) \n",
    "\\end{align*}\n",
    "$$"
   ]
  },
  {
   "cell_type": "code",
   "execution_count": null,
   "metadata": {
    "collapsed": true
   },
   "outputs": [],
   "source": [
    "vector = np.divide(np.exp(-np.multiply(vector, self.std ** 2 / (float)(2))), vector)"
   ]
  },
  {
   "cell_type": "markdown",
   "metadata": {},
   "source": [
    "$$ \n",
    "\\begin{align*}\n",
    "vector = \n",
    "\\left( \\begin{matrix}\n",
    "e^{- \\frac{(k_{11}^{2} + k_{12}^{2} + k_{13}^{2}) \\cdot \\sigma^{2}}{2}} \\\\\n",
    "e^{- \\frac{(k_{21}^{2} + k_{22}^{2} + k_{23}^{2}) \\cdot \\sigma^{2}}{2}} \\\\\n",
    "\\vdots \\\\\n",
    "e^{- \\frac{(k_{m1}^{2} + k_{m2}^{2} + k_{m3}^{2}) \\cdot \\sigma^{2}}{2}}\n",
    "\\end{matrix} \\right)\n",
    "\\oslash\n",
    "\\left( \\begin{matrix}\n",
    "k_{11}^{2} + k_{12}^{2} + k_{13}^{2} \\\\\n",
    "k_{21}^{2} + k_{22}^{2} + k_{23}^{2} \\\\\n",
    "\\vdots \\\\\n",
    "k_{m1}^{2} + k_{m2}^{2} + k_{m3}^{2}\n",
    "\\end{matrix} \\right) \\\\\n",
    "=\n",
    "\\left( \\begin{matrix}\n",
    "\\frac{e^{- \\frac{(k_{11}^{2} + k_{12}^{2} + k_{13}^{2}) \\cdot \\sigma^{2}}{2}}}{k_{11}^{2} + k_{12}^{2} + k_{13}^{2}} \\\\\n",
    "\\frac{e^{- \\frac{(k_{21}^{2} + k_{22}^{2} + k_{23}^{2}) \\cdot \\sigma^{2}}{2}}}{k_{21}^{2} + k_{22}^{2} + k_{23}^{2}} \\\\\n",
    "\\vdots \\\\\n",
    "\\frac{e^{- \\frac{(k_{m1}^{2} + k_{m2}^{2} + k_{m3}^{2}) \\cdot \\sigma^{2}}{2}}}{k_{m1}^{2} + k_{m2}^{2} + k_{m3}^{2}}\n",
    "\\end{matrix} \\right)\n",
    "\\end{align*}\n",
    "$$"
   ]
  },
  {
   "cell_type": "code",
   "execution_count": null,
   "metadata": {
    "collapsed": true
   },
   "outputs": [],
   "source": [
    "matrix = np.dot(self.k_list, np.transpose(positions))"
   ]
  },
  {
   "cell_type": "markdown",
   "metadata": {},
   "source": [
    "$$ \n",
    "\\begin{align*}\n",
    "matrix =\n",
    "\\left( \\begin{matrix}\n",
    "k_{11} & k_{12} & k_{13} \\\\\n",
    "k_{21} & k_{22} & k_{23} \\\\\n",
    "\\vdots & \\vdots & \\vdots \\\\\n",
    "k_{m1} & k_{m2} & k_{m3}\n",
    "\\end{matrix} \\right) \n",
    "\\cdot\n",
    "\\left( \\begin{matrix}\n",
    "x_{1} & x_{2} & \\cdots & x_{n} \\\\\n",
    "y_{1} & y_{2} & \\cdots & y_{n} \\\\\n",
    "z_{1} & z_{2} & \\cdots & z_{n}\n",
    "\\end{matrix} \\right) \\\\\n",
    "=\n",
    "\\left( \\begin{matrix}\n",
    "k_{11} \\cdot x_{1} + k_{12} \\cdot y_{1} + k_{13} \\cdot z_{1} &\n",
    "k_{11} \\cdot x_{2} + k_{12} \\cdot y_{2} + k_{13} \\cdot z_{2} &\n",
    "\\cdots &\n",
    "k_{11} \\cdot x_{n} + k_{12} \\cdot y_{n} + k_{13} \\cdot z_{n}\\\\\n",
    "k_{21} \\cdot x_{1} + k_{22} \\cdot y_{1} + k_{23} \\cdot z_{1} &\n",
    "k_{21} \\cdot x_{2} + k_{22} \\cdot y_{2} + k_{23} \\cdot z_{2} &\n",
    "\\cdots &\n",
    "k_{21} \\cdot x_{n} + k_{22} \\cdot y_{n} + k_{23} \\cdot z_{n}\\\\\n",
    "\\vdots & \\vdots & \\ddots & \\vdots \\\\\n",
    "k_{m1} \\cdot x_{1} + k_{m2} \\cdot y_{1} + k_{m3} \\cdot z_{1} &\n",
    "k_{m1} \\cdot x_{2} + k_{m2} \\cdot y_{2} + k_{m3} \\cdot z_{2} &\n",
    "\\cdots &\n",
    "k_{m1} \\cdot x_{n} + k_{m2} \\cdot y_{n} + k_{m3} \\cdot z_{n}\n",
    "\\end{matrix} \\right)\n",
    "\\end{align*}\n",
    "$$"
   ]
  },
  {
   "cell_type": "code",
   "execution_count": null,
   "metadata": {
    "collapsed": true
   },
   "outputs": [],
   "source": [
    "vector = np.multiply(vector, np.dot(np.exp(-1j * matrix), charges))"
   ]
  },
  {
   "cell_type": "markdown",
   "metadata": {},
   "source": [
    "$$\n",
    "\\begin{align*}\n",
    "{np.dot(np.exp(-1j * matrix), charges)} =\n",
    "\\left( \\begin{matrix}\n",
    "e^{-1j \\cdot (k_{11} \\cdot x_{1} + k_{12} \\cdot y_{1} + k_{13} \\cdot z_{1})} &\n",
    "e^{-1j \\cdot (k_{11} \\cdot x_{2} + k_{12} \\cdot y_{2} + k_{13} \\cdot z_{2})} &\n",
    "\\cdots &\n",
    "e^{-1j \\cdot (k_{11} \\cdot x_{n} + k_{12} \\cdot y_{n} + k_{13} \\cdot z_{n})}\\\\\n",
    "e^{-1j \\cdot (k_{21} \\cdot x_{1} + k_{22} \\cdot y_{1} + k_{23} \\cdot z_{1})} &\n",
    "e^{-1j \\cdot (k_{21} \\cdot x_{2} + k_{22} \\cdot y_{2} + k_{23} \\cdot z_{2})} &\n",
    "\\cdots &\n",
    "e^{-1j \\cdot (k_{21} \\cdot x_{n} + k_{22} \\cdot y_{n} + k_{23} \\cdot z_{n})}\\\\\n",
    "\\vdots & \\vdots & \\ddots & \\vdots \\\\\n",
    "e^{-1j \\cdot (k_{m1} \\cdot x_{1} + k_{m2} \\cdot y_{1} + k_{m3} \\cdot z_{1})} &\n",
    "e^{-1j \\cdot (k_{m1} \\cdot x_{2} + k_{m2} \\cdot y_{2} + k_{m3} \\cdot z_{2})} &\n",
    "\\cdots &\n",
    "e^{-1j \\cdot (k_{m1} \\cdot x_{n} + k_{m2} \\cdot y_{n} + k_{m3} \\cdot z_{n})}\n",
    "\\end{matrix} \\right)\n",
    "\\cdot\n",
    "\\left( \\begin{matrix}\n",
    "q1 \\\\\n",
    "q2 \\\\\n",
    "\\vdots \\\\\n",
    "qn\n",
    "\\end{matrix} \\right) \\\\\n",
    "=\n",
    "\\left( \\begin{matrix}\n",
    "q1 \\cdot e^{-1j \\cdot (k_{11} \\cdot x_{1} + k_{12} \\cdot y_{1} + k_{13} \\cdot z_{1})} +\n",
    "q2 \\cdot e^{-1j \\cdot (k_{11} \\cdot x_{2} + k_{12} \\cdot y_{2} + k_{13} \\cdot z_{2})} +\n",
    "\\cdots +\n",
    "qn \\cdot e^{-1j \\cdot (k_{11} \\cdot x_{n} + k_{12} \\cdot y_{n} + k_{13} \\cdot z_{n})}\\\\\n",
    "q1 \\cdot e^{-1j \\cdot (k_{21} \\cdot x_{1} + k_{22} \\cdot y_{1} + k_{23} \\cdot z_{1})} +\n",
    "q2 \\cdot e^{-1j \\cdot (k_{21} \\cdot x_{2} + k_{22} \\cdot y_{2} + k_{23} \\cdot z_{2})} +\n",
    "\\cdots +\n",
    "qn \\cdot e^{-1j \\cdot (k_{21} \\cdot x_{n} + k_{22} \\cdot y_{n} + k_{23} \\cdot z_{n})}\\\\\n",
    "\\vdots \\\\\n",
    "q1 \\cdot e^{-1j \\cdot (k_{m1} \\cdot x_{1} + k_{m2} \\cdot y_{1} + k_{m3} \\cdot z_{1})} +\n",
    "q2 \\cdot e^{-1j \\cdot (k_{m1} \\cdot x_{2} + k_{m2} \\cdot y_{2} + k_{m3} \\cdot z_{2})} +\n",
    "\\cdots +\n",
    "qn \\cdot e^{-1j \\cdot (k_{m1} \\cdot x_{n} + k_{m2} \\cdot y_{n} + k_{m3} \\cdot z_{n})}\n",
    "\\end{matrix} \\right) \\\\\n",
    "=\n",
    "\\left( \\begin{matrix}\n",
    "\\sum_{i=1}^{n} q_i \\cdot\\ e^{-1j \\cdot (k_{11} \\cdot x_{i} + k_{12} \\cdot y_{i} + k_{13} \\cdot z_{i})} \\\\\n",
    "\\sum_{i=1}^{n} q_i \\cdot\\ e^{-1j \\cdot (k_{21} \\cdot x_{i} + k_{22} \\cdot y_{i} + k_{23} \\cdot z_{i})} \\\\\n",
    "\\vdots \\\\\n",
    "\\sum_{i=1}^{n} q_i \\cdot\\ e^{-1j \\cdot (k_{m1} \\cdot x_{i} + k_{m2} \\cdot y_{i} + k_{m3} \\cdot z_{i})}\n",
    "\\end{matrix} \\right)\n",
    "\\end{align*}\n",
    "$$"
   ]
  },
  {
   "cell_type": "code",
   "execution_count": null,
   "metadata": {
    "collapsed": true
   },
   "outputs": [],
   "source": [
    "vector = np.multiply(vector, np.dot(np.exp(-1j * matrix), charges))"
   ]
  },
  {
   "cell_type": "markdown",
   "metadata": {},
   "source": [
    "$$\n",
    "\\begin{align*}\n",
    "vector =\n",
    "\\left( \\begin{matrix}\n",
    "\\frac{e^{- \\frac{(k_{11}^{2} + k_{12}^{2} + k_{13}^{2}) \\cdot \\sigma^{2}}{2}}}{k_{11}^{2} + k_{12}^{2} + k_{13}^{2}} \\\\\n",
    "\\frac{e^{- \\frac{(k_{21}^{2} + k_{22}^{2} + k_{23}^{2}) \\cdot \\sigma^{2}}{2}}}{k_{21}^{2} + k_{22}^{2} + k_{23}^{2}} \\\\\n",
    "\\vdots \\\\\n",
    "\\frac{e^{- \\frac{(k_{m1}^{2} + k_{m2}^{2} + k_{m3}^{2}) \\cdot \\sigma^{2}}{2}}}{k_{m1}^{2} + k_{m2}^{2} + k_{m3}^{2}}\n",
    "\\end{matrix} \\right)\n",
    "\\odot\n",
    "\\left( \\begin{matrix}\n",
    "\\sum_{i=1}^{n} q_i \\cdot\\ e^{-1j \\cdot (k_{11} \\cdot x_{i} + k_{12} \\cdot y_{i} + k_{13} \\cdot z_{i})} \\\\\n",
    "\\sum_{i=1}^{n} q_i \\cdot\\ e^{-1j \\cdot (k_{21} \\cdot x_{i} + k_{22} \\cdot y_{i} + k_{23} \\cdot z_{i})} \\\\\n",
    "\\vdots \\\\\n",
    "\\sum_{i=1}^{n} q_i \\cdot\\ e^{-1j \\cdot (k_{m1} \\cdot x_{i} + k_{m2} \\cdot y_{i} + k_{m3} \\cdot z_{i})}\n",
    "\\end{matrix} \\right) \\\\\n",
    "=\n",
    "\\left( \\begin{matrix}\n",
    "\\frac{e^{- \\frac{(k_{11}^{2} + k_{12}^{2} + k_{13}^{2}) \\cdot \\sigma^{2}}{2}}}{k_{11}^{2} + k_{12}^{2} + k_{13}^{2}} \\cdot \\sum_{i=1}^{n} q_i \\cdot\\ e^{-1j \\cdot (k_{11} \\cdot x_{i} + k_{12} \\cdot y_{i} + k_{13} \\cdot z_{i})} \\\\\n",
    "\\frac{e^{- \\frac{(k_{21}^{2} + k_{22}^{2} + k_{23}^{2}) \\cdot \\sigma^{2}}{2}}}{k_{21}^{2} + k_{22}^{2} + k_{23}^{2}} \\cdot \\sum_{i=1}^{n} q_i \\cdot\\ e^{-1j \\cdot (k_{21} \\cdot x_{i} + k_{22} \\cdot y_{i} + k_{23} \\cdot z_{i})} \\\\\n",
    "\\vdots \\\\\n",
    "\\frac{e^{- \\frac{(k_{m1}^{2} + k_{m2}^{2} + k_{m3}^{2}) \\cdot \\sigma^{2}}{2}}}{k_{m1}^{2} + k_{m2}^{2} + k_{m3}^{2}} \\cdot \\sum_{i=1}^{n} q_i \\cdot\\ e^{-1j \\cdot (k_{m1} \\cdot x_{i} + k_{m2} \\cdot y_{i} + k_{m3} \\cdot z_{i})}\n",
    "\\end{matrix} \\right)\n",
    "\\end{align*}\n",
    "$$"
   ]
  },
  {
   "cell_type": "code",
   "execution_count": null,
   "metadata": {
    "collapsed": true
   },
   "outputs": [],
   "source": [
    "return_vector = np.dot(np.exp(1j*np.transpose(matrix)), vector)"
   ]
  },
  {
   "cell_type": "markdown",
   "metadata": {},
   "source": [
    "$$\n",
    "\\begin{align*}\n",
    "returnvector =\n",
    "\\left( \\begin{matrix}\n",
    "e^{1j \\cdot (k_{11} \\cdot x_{1} + k_{12} \\cdot y_{1} + k_{13} \\cdot z_{1})} &\n",
    "e^{1j \\cdot (k_{21} \\cdot x_{1} + k_{22} \\cdot y_{1} + k_{23} \\cdot z_{1})} &\n",
    "\\cdots &\n",
    "e^{1j \\cdot (k_{m1} \\cdot x_{1} + k_{m2} \\cdot y_{1} + k_{m3} \\cdot z_{1})} \\\\\n",
    "e^{1j \\cdot (k_{11} \\cdot x_{2} + k_{12} \\cdot y_{2} + k_{13} \\cdot z_{2})} &\n",
    "e^{1j \\cdot (k_{21} \\cdot x_{2} + k_{22} \\cdot y_{2} + k_{23} \\cdot z_{2})} &\n",
    "\\cdots &\n",
    "e^{1j \\cdot (k_{m1} \\cdot x_{2} + k_{m2} \\cdot y_{2} + k_{m3} \\cdot z_{2})} \\\\\n",
    "\\vdots & \\vdots & \\ddots & \\vdots \\\\\n",
    "e^{1j \\cdot (k_{11} \\cdot x_{n} + k_{12} \\cdot y_{n} + k_{13} \\cdot z_{n})} &\n",
    "e^{1j \\cdot (k_{21} \\cdot x_{n} + k_{22} \\cdot y_{n} + k_{23} \\cdot z_{n})} &\n",
    "\\cdots &\n",
    "e^{1j \\cdot (k_{m1} \\cdot x_{n} + k_{m2} \\cdot y_{n} + k_{m3} \\cdot z_{n})}\n",
    "\\end{matrix} \\right)\n",
    "\\cdot\n",
    "\\left( \\begin{matrix}\n",
    "\\frac{e^{- \\frac{(k_{11}^{2} + k_{12}^{2} + k_{13}^{2}) \\cdot \\sigma^{2}}{2}}}{k_{11}^{2} + k_{12}^{2} + k_{13}^{2}} \\cdot \\sum_{i=1}^{n} q_i \\cdot\\ e^{-1j \\cdot (k_{11} \\cdot x_{i} + k_{12} \\cdot y_{i} + k_{13} \\cdot z_{i})} \\\\\n",
    "\\frac{e^{- \\frac{(k_{21}^{2} + k_{22}^{2} + k_{23}^{2}) \\cdot \\sigma^{2}}{2}}}{k_{21}^{2} + k_{22}^{2} + k_{23}^{2}} \\cdot \\sum_{i=1}^{n} q_i \\cdot\\ e^{-1j \\cdot (k_{21} \\cdot x_{i} + k_{22} \\cdot y_{i} + k_{23} \\cdot z_{i})} \\\\\n",
    "\\vdots \\\\\n",
    "\\frac{e^{- \\frac{(k_{m1}^{2} + k_{m2}^{2} + k_{m3}^{2}) \\cdot \\sigma^{2}}{2}}}{k_{m1}^{2} + k_{m2}^{2} + k_{m3}^{2}} \\cdot \\sum_{i=1}^{n} q_i \\cdot\\ e^{-1j \\cdot (k_{m1} \\cdot x_{i} + k_{m2} \\cdot y_{i} + k_{m3} \\cdot z_{i})}\n",
    "\\end{matrix} \\right) \\\\\n",
    "=\n",
    "\\left( \\begin{matrix}\n",
    "\\sum_{o=1}^{m} \\sum_{i=1}^{n} q_i \\cdot\\ e^{-1j \\cdot (k_{o1} \\cdot x_{i} + k_{o2} \\cdot y_{i} + k_{o3} \\cdot z_{i})} \\cdot e^{1j \\cdot (k_{o1} \\cdot x_{1} + k_{o2} \\cdot y_{1} + k_{o3} \\cdot z_{1})} \\cdot \\frac{e^{- \\frac{(k_{o1}^{2} + k_{o2}^{2} + k_{o3}^{2}) \\cdot \\sigma^{2}}{2}}}{k_{o1}^{2} + k_{o2}^{2} + k_{o3}^{2}} \\\\\n",
    "\\sum_{o=1}^{m} \\sum_{i=1}^{n} q_i \\cdot\\ e^{-1j \\cdot (k_{o1} \\cdot x_{i} + k_{o2} \\cdot y_{i} + k_{o3} \\cdot z_{i})} \\cdot e^{1j \\cdot (k_{o1} \\cdot x_{2} + k_{o2} \\cdot y_{2} + k_{o3} \\cdot z_{2})} \\cdot \\frac{e^{- \\frac{(k_{o1}^{2} + k_{o2}^{2} + k_{o3}^{2}) \\cdot \\sigma^{2}}{2}}}{k_{o1}^{2} + k_{o2}^{2} + k_{o3}^{2}} \\\\\n",
    "\\vdots \\\\\n",
    "\\sum_{o=1}^{m} \\sum_{i=1}^{n} q_i \\cdot\\ e^{-1j \\cdot (k_{o1} \\cdot x_{i} + k_{o2} \\cdot y_{i} + k_{o3} \\cdot z_{i})} \\cdot e^{1j \\cdot (k_{o1} \\cdot x_{n} + k_{o2} \\cdot y_{n} + k_{o3} \\cdot z_{n})} \\cdot \\frac{e^{- \\frac{(k_{o1}^{2} + k_{o2}^{2} + k_{o3}^{2}) \\cdot \\sigma^{2}}{2}}}{k_{o1}^{2} + k_{o2}^{2} + k_{o3}^{2}} \\\\\n",
    "\\end{matrix} \\right)\n",
    "\\end{align*}\n",
    "$$"
   ]
  },
  {
   "cell_type": "code",
   "execution_count": null,
   "metadata": {
    "collapsed": true
   },
   "outputs": [],
   "source": [
    "return_vector = np.multiply(return_vector, 1 / (float)(self.volume * self.epsilon0)"
   ]
  },
  {
   "cell_type": "markdown",
   "metadata": {},
   "source": [
    "$$\n",
    "\\begin{align*}\n",
    "returnvector =\n",
    "\\frac{1}{V \\cdot \\epsilon_0} \\cdot\n",
    "\\left( \\begin{matrix}\n",
    "\\sum_{o=1}^{m} \\sum_{i=1}^{n} q_i \\cdot\\ e^{-1j \\cdot (k_{o1} \\cdot x_{i} + k_{o2} \\cdot y_{i} + k_{o3} \\cdot z_{i})} \\cdot e^{1j \\cdot (k_{o1} \\cdot x_{1} + k_{o2} \\cdot y_{1} + k_{o3} \\cdot z_{1})} \\cdot \\frac{e^{- \\frac{(k_{o1}^{2} + k_{o2}^{2} + k_{o3}^{2}) \\cdot \\sigma^{2}}{2}}}{k_{o1}^{2} + k_{o2}^{2} + k_{o3}^{2}} \\\\\n",
    "\\sum_{o=1}^{m} \\sum_{i=1}^{n} q_i \\cdot\\ e^{-1j \\cdot (k_{o1} \\cdot x_{i} + k_{o2} \\cdot y_{i} + k_{o3} \\cdot z_{i})} \\cdot e^{1j \\cdot (k_{o1} \\cdot x_{2} + k_{o2} \\cdot y_{2} + k_{o3} \\cdot z_{2})} \\cdot \\frac{e^{- \\frac{(k_{o1}^{2} + k_{o2}^{2} + k_{o3}^{2}) \\cdot \\sigma^{2}}{2}}}{k_{o1}^{2} + k_{o2}^{2} + k_{o3}^{2}} \\\\\n",
    "\\vdots \\\\\n",
    "\\sum_{o=1}^{m} \\sum_{i=1}^{n} q_i \\cdot\\ e^{-1j \\cdot (k_{o1} \\cdot x_{i} + k_{o2} \\cdot y_{i} + k_{o3} \\cdot z_{i})} \\cdot e^{1j \\cdot (k_{o1} \\cdot x_{n} + k_{o2} \\cdot y_{n} + k_{o3} \\cdot z_{n})} \\cdot \\frac{e^{- \\frac{(k_{o1}^{2} + k_{o2}^{2} + k_{o3}^{2}) \\cdot \\sigma^{2}}{2}}}{k_{o1}^{2} + k_{o2}^{2} + k_{o3}^{2}} \\\\\n",
    "\\end{matrix} \\right)\n",
    "\\end{align*}\n",
    "$$"
   ]
  },
  {
   "cell_type": "markdown",
   "metadata": {},
   "source": [
    "$$\n",
    "\\phi_L(r) = \\frac{1}{V \\cdot \\epsilon_0} \\cdot \\sum_{\\mathbf k} \\sum_{j=1}^{N} q_j \\cdot e^{i \\left< \\mathbf k, r\\right>} \\cdot e^{-i \\left< \\mathbf k, r_j\\right>} \\cdot \\frac{e^{\\frac{-\\sigma^{2} \\cdot k^{2}}{2}}}{k^{2}}\n",
    "$$"
   ]
  },
  {
   "cell_type": "markdown",
   "metadata": {},
   "source": [
    "#### long range energy"
   ]
  },
  {
   "cell_type": "code",
   "execution_count": null,
   "metadata": {
    "collapsed": true
   },
   "outputs": [],
   "source": [
    "long_range_potential = self.__long_range_potential(labels[:,1],positions)\n",
    "\n",
    "self_energy = np.sum(np.array(labels[:,1]) ** 2) / (float)(2 * self.epsilon0 * self.std * np.power(2 * np.pi, 1.5))\n",
    "\n",
    "return 0.5 * np.sum(np.multiply(long_range_potential,labels[:,1])) - self_energy"
   ]
  },
  {
   "cell_type": "markdown",
   "metadata": {},
   "source": [
    "$$\n",
    "E_L= \\frac{1}{2} \\cdot \\sum_{i=1}^{N} q_i \\cdot \\phi_L(r_i) - \\frac{1}{2 \\cdot \\epsilon_0 \\cdot \\sigma \\cdot (2\\pi)^{\\frac{3}{2}}} \\cdot \\sum_{i=1}^N q_i^2\n",
    "$$"
   ]
  },
  {
   "cell_type": "markdown",
   "metadata": {},
   "source": [
    "### 1.7.3 Short range forces"
   ]
  },
  {
   "cell_type": "markdown",
   "metadata": {},
   "source": [
    "$$\\mathbf{f}_i^S = \\frac{q_i}{8\\pi\\epsilon_0}  \n",
    "~ \\sum_{\\mathbf{n}}\\sum_{j=1}^{N}~ \n",
    "^*q_i \\frac{ (\\mathbf{r}_i - \\mathbf{r}_j +\\mathbf{n}L) }{|\\mathbf{r}_i - \\mathbf{r}_j +\\mathbf{n}L|^2} \n",
    "~ \\left[ \n",
    "\\frac{erfc \\left( \\frac{(\\mathbf{r}_i - \\mathbf{r}_j +\\mathbf{n}L)}{\\sqrt2\\sigma} \\right ) }{|\\mathbf{r}_i - \\mathbf{r}_j +\\mathbf{n}L|}\n",
    "~ + \\sqrt\\frac{2}{\\pi}\\frac{1}{\\sigma}\\exp\\left( \\frac{|\\mathbf{r}_i - \\mathbf{r}_j +\\mathbf{n}L|^2}{2\\sigma }\\right)  \\right]$$"
   ]
  },
  {
   "cell_type": "markdown",
   "metadata": {},
   "source": [
    "- Parallelize Sum over j \n",
    " \n",
    "-  loop sum over n\n",
    "  \n",
    "- Optimal when (2*n_boxes+1)^3 < N (Large Systems)"
   ]
  },
  {
   "cell_type": "markdown",
   "metadata": {},
   "source": [
    "### 1.7.4 Long range forces"
   ]
  },
  {
   "cell_type": "markdown",
   "metadata": {},
   "source": [
    "$$\\mathbf{f}_i^L = \\frac{q_i}{V\\epsilon_0} ~ \\sum_{\\mathbf{k}=1}^{M} \\frac{\\mathbf{k}}{|k|^2} ~ \\exp(\\frac{-\\sigma^2 |k|^2}{2}) ~ \\sum_{j=1}^N q_j \\sin\\left(\\langle \\mathbf{k},(\\mathbf{r}_i - \\mathbf{r}_j)\\rangle \\right) $$"
   ]
  },
  {
   "cell_type": "markdown",
   "metadata": {},
   "source": [
    "Use symmetry of sine:    $$ sin(-x) = - sin(x) $$\n",
    "\n",
    "\n"
   ]
  },
  {
   "cell_type": "markdown",
   "metadata": {},
   "source": [
    "\n"
   ]
  },
  {
   "cell_type": "markdown",
   "metadata": {},
   "source": [
    "\n",
    "\n",
    "\n",
    "$$ \\frac{2\\pi}{L} \\Biggl\\{ \\ldots \\overbrace{  \\left( \\begin{matrix} -1 \\\\-1 \\\\ -1 \\end{matrix} \\right) \\ldots \\underbrace{ \\left( \\begin{matrix} -1 \\\\ 0 \\\\ 1 \\end{matrix} \\right) \\ldots \\overbrace{ \\left( \\begin{matrix} 0 \\\\ 0 \\\\ -1 \\end{matrix} \\right)         \\ldots  \\ldots \\left( \\begin{matrix} 0 \\\\ 0 \\\\ 1 \\end{matrix} \\right) } \\ldots \\left( \\begin{matrix} 1 \\\\ 0 \\\\ -1 \\end{matrix} \\right) } \\ldots \\left( \\begin{matrix} 1 \\\\ 1 \\\\ 1 \\end{matrix} \\right) } \\ldots \\Biggr\\} $$"
   ]
  },
  {
   "cell_type": "markdown",
   "metadata": {},
   "source": [
    "New equation:\n",
    "\n",
    "$$\\mathbf{f}_i^L = {\\color{red}2} ~ \\frac{q_i}{V\\epsilon_0} ~ \\sum_{\\mathbf{k}=1}^{\\frac{\\color{red}M}{\\color{red}2}} \\frac{\\mathbf{k}}{|k|^2} ~ \\exp(\\frac{-\\sigma^2 |k|^2}{2}) ~ \\sum_{j=1}^N q_j \\sin\\left(\\langle \\mathbf{k},(\\mathbf{r}_i - \\mathbf{r}_j)\\rangle \\right) $$"
   ]
  },
  {
   "cell_type": "markdown",
   "metadata": {},
   "source": [
    "## 1.8 Class \"lennard_jones\""
   ]
  },
  {
   "cell_type": "markdown",
   "metadata": {},
   "source": [
    "- compute_potential(self, sigma, epsilon, labels, neighbours, distances)\n",
    "\n",
    "\n",
    "- compute_energy(self, sigma, epsilon, labels, neighbours, distances)"
   ]
  },
  {
   "cell_type": "markdown",
   "metadata": {},
   "source": [
    "### 1.8.1 Potential and Energy"
   ]
  },
  {
   "cell_type": "markdown",
   "metadata": {},
   "source": [
    "Lennard Jones Potential:\n",
    "$$\\Phi_{LJ}(\\vec{r}) = 4\\epsilon_{12} \\left[ \\left( \\frac{\\sigma _{12}}{|\\vec{r} _{12}|}\\right)^{12}-\\left( \\frac{\\sigma _{12}}{|\\vec{r} _{12}|}\\right)^{6}\\right]$$"
   ]
  },
  {
   "cell_type": "markdown",
   "metadata": {},
   "source": [
    "### 1.8.2 Force"
   ]
  },
  {
   "cell_type": "markdown",
   "metadata": {},
   "source": [
    "$$\\mathbf{F^{LJ}}_i = - \\nabla \\mathbf{\\Phi^{LJ}} $$\n",
    "$$\\mathbf{F^{LJ}}_{ij} =  48*\\epsilon_{ij}*\\sigma_{ij}^6*\\frac{\\mathbf{r}_{ij}}{|\\mathbf{r}_{ij} |^8}*\\left(- \\frac{\\sigma_{ij}^6}{|\\mathbf{r}_{ij} |^6} +0.5 \\right) $$"
   ]
  },
  {
   "cell_type": "markdown",
   "metadata": {},
   "source": [
    "## 1.9 Class \"dynamics\""
   ]
  },
  {
   "cell_type": "markdown",
   "metadata": {},
   "source": [
    "- velocity_verlet_integrator(self, Positions, Velocities,  Forces,  Labels, Sigma,  Epsilon , dt, L,  switch_parameter,  r_switch, neighbours_LJ, coulomb, lennard_jones)\n",
    "\n",
    "\n",
    "- Thermometer(self, Labels, Velocities)\n",
    "\n",
    "\n",
    "- compute_dynamics(self, Positions, Velocities,  Forces,  Labels, Sigma,  Epsilon , dt, L,  T, switch_parameter,  r_switch, neighbours_LJ, p_rea, coulomb, lennard_jones)"
   ]
  },
  {
   "cell_type": "markdown",
   "metadata": {},
   "source": [
    "### 1.9.1 Thermostat"
   ]
  },
  {
   "cell_type": "markdown",
   "metadata": {},
   "source": [
    "#### Each timestep do:\n",
    ">1. Draw one random Number  rand_i  for each Particle i \n",
    "\n",
    ">2. Each Particle i with rand_i < p_rea will undergo a velocity reassignment "
   ]
  },
  {
   "cell_type": "code",
   "execution_count": null,
   "metadata": {
    "collapsed": true
   },
   "outputs": [],
   "source": [
    "# Expcerpt from function velocity_verlet_integrator\n",
    "if thermostat == True:\n",
    "\n",
    "    #Andersen Thermostat\n",
    "    N = np.size(Positions[:,0])\n",
    "    m = Labels[:,0]\n",
    "\n",
    "    #Draw Random Number for every Particle\n",
    "    Rand = np.random.uniform(size =N) \n",
    "\n",
    "    #Check wich random numbers are smaller than the reassingment probability p_rea\n",
    "    indexes = np.where(Rand<p_rea) \n",
    "    if np.size(indexes) is not 0: \n",
    "\n",
    "        #Reassign a new Velocity to the Correspoding Particles\n",
    "        Velocities_new[indexes] = maxwellboltzmann().sample_distribution(N = np.size(indexes), m = m[indexes], T=T)        \n",
    "\n",
    "    return Positions_new, Velocities_new, Forces_new"
   ]
  },
  {
   "cell_type": "markdown",
   "metadata": {},
   "source": [
    "### 1.9.2 Velocity-Verlet-Integrator"
   ]
  },
  {
   "cell_type": "markdown",
   "metadata": {},
   "source": [
    "> Inputs: \n",
    "$$ \\mathbf{x}_i(t), ~\\mathbf{v}_i(t),~ \\mathbf{F}_i(t)$$\n",
    "\n",
    ">1. Update Positions\n",
    "$$\\mathbf{x}_i(t+\\Delta t) = \\mathbf{x}_i(t) + \\mathbf{v}_i(t)\\Delta t + \\frac{1}{2m_i} \\mathbf{F}_i(t)\\Delta t^2 $$\n",
    "\n",
    ">2. Update Forces\n",
    "$$\\mathbf{F}_i(t+\\Delta t) = -\\nabla\\Phi(\\mathbf{x}_i(t+\\Delta t))$$\n",
    "In our case, analytical expressions for the Forces are knwon\n",
    "\n",
    ">3. Update Velocities\n",
    "$$\\mathbf{v}_i(t+\\Delta t) = \\mathbf{v}_i(t) + \\frac{\\mathbf{F}_i(t)+\\mathbf{F}_i(t+\\Delta t)}{2m_i}  \\Delta t $$\n",
    "\n",
    "> Outputs:\n",
    "$$ \\mathbf{x}_i(t+\\Delta t), ~\\mathbf{v}_i(t+\\Delta t),~ \\mathbf{F}_i(t+\\Delta t)$$"
   ]
  },
  {
   "cell_type": "markdown",
   "metadata": {},
   "source": [
    "## 1.10 Output of package get_traj "
   ]
  },
  {
   "cell_type": "markdown",
   "metadata": {},
   "source": [
    "- trajectory as xyz-file\n",
    "\n",
    "- energy in a text-file (maybe as graph as well)\n",
    "\n",
    "- Temperature in a text-file\n"
   ]
  },
  {
   "cell_type": "markdown",
   "metadata": {},
   "source": [
    "# 2. Performance \n",
    "## 2.1 NaCl "
   ]
  },
  {
   "cell_type": "markdown",
   "metadata": {},
   "source": [
    "### 2.1.1 Potential Plots"
   ]
  },
  {
   "cell_type": "code",
   "execution_count": 8,
   "metadata": {
    "collapsed": false
   },
   "outputs": [
    {
     "data": {
      "image/png": "[encoded data removed]",
      "text/plain": [
       "<IPython.core.display.Image object>"
      ]
     },
     "execution_count": 8,
     "metadata": {},
     "output_type": "execute_result"
    }
   ],
   "source": [
    "Image(filename='LJ_Potential.png')"
   ]
  },
  {
   "cell_type": "code",
   "execution_count": 6,
   "metadata": {
    "collapsed": false
   },
   "outputs": [
    {
     "data": {
      "image/png": "[encoded data removed]",
      "text/plain": [
       "<IPython.core.display.Image object>"
      ]
     },
     "execution_count": 6,
     "metadata": {},
     "output_type": "execute_result"
    }
   ],
   "source": [
    "Image(filename='Coulomb_Potential.png')"
   ]
  },
  {
   "cell_type": "code",
   "execution_count": 7,
   "metadata": {
    "collapsed": false
   },
   "outputs": [
    {
     "data": {
      "image/png": "[encoded data removed]",
      "text/plain": [
       "<IPython.core.display.Image object>"
      ]
     },
     "execution_count": 7,
     "metadata": {},
     "output_type": "execute_result"
    }
   ],
   "source": [
    "Image(filename='Total_Potential.png')"
   ]
  },
  {
   "cell_type": "code",
   "execution_count": 3,
   "metadata": {
    "collapsed": false
   },
   "outputs": [
    {
     "data": {
      "image/png": "[encoded data removed]",
      "text/plain": [
       "<IPython.core.display.Image object>"
      ]
     },
     "execution_count": 3,
     "metadata": {},
     "output_type": "execute_result"
    }
   ],
   "source": [
    "Image(filename='LJ_Potential_Force.png')"
   ]
  },
  {
   "cell_type": "code",
   "execution_count": 4,
   "metadata": {
    "collapsed": false
   },
   "outputs": [
    {
     "data": {
      "image/png": "[encoded data removed]",
      "text/plain": [
       "<IPython.core.display.Image object>"
      ]
     },
     "execution_count": 4,
     "metadata": {},
     "output_type": "execute_result"
    }
   ],
   "source": [
    "Image(filename='Coulomb_Potential_Force.png')"
   ]
  },
  {
   "cell_type": "code",
   "execution_count": 5,
   "metadata": {
    "collapsed": false
   },
   "outputs": [
    {
     "data": {
      "image/png": "[encoded data removed]",
      "text/plain": [
       "<IPython.core.display.Image object>"
      ]
     },
     "execution_count": 5,
     "metadata": {},
     "output_type": "execute_result"
    }
   ],
   "source": [
    "Image(filename='Total_Potential_Force.png')"
   ]
  },
  {
   "cell_type": "markdown",
   "metadata": {},
   "source": [
    "### 2.1.2 Some Time Aspects"
   ]
  },
  {
   "cell_type": "markdown",
   "metadata": {},
   "source": [
    "Single Shots\n",
    "  \n",
    "  \n",
    "  Number fo particles  | L [A]| r_cut_coulomb [A] | r_cut_LJ [A]| p_error | number k-vector | Force | Energy | Neighbours\n",
    "  -------------------- | --|     --------- | ---------|---------|-----------------|-------|--------|------------\n",
    " 2 | 35.00 | 13.6 | 14.0 | 5 | 56 | 0.00162 s | 0.00091 s | 0.00130 s\n",
    " 2                    | 35.00    | 13.4 |  14.0    |  10     | 618   |  0.00383 s  | 0.00216 s  | 0.00174 s \n",
    " 64 | 35.00 | 12.5 | 14.0 | 5 | 364 | 0.07834 s | 0.01054 s | 0.05375 s\n",
    " 64 | 35.00 | 15.2 | 14.0 | 10 | 1364 | 0.17897 s | 0.02469 s | 0.04667 s\n",
    " 1000 | 35.00 | 8.8 | 14.0 | 5 | 3868 | 51.09192 s | 1.03551 s | 1.07920 s\n",
    " 1000 | 35.00 | 10.7 | 14.0 | 10 | 11772 | - | 1.92444 s | 4.39452 s"
   ]
  },
  {
   "cell_type": "markdown",
   "metadata": {},
   "source": [
    "minimize_Energy \n",
    " \n",
    " Number fo particles  | L [A]| r_cut_coulomb [A] | r_cut_LJ [A]| p_error | number k-vector | Steps | Time\n",
    "  -------------------- | -----|------------------ | ------------|---------|-----------------|-------| -------\n",
    "  2 | 35.00 | 13.6 | 14.0 | 10 | 618 | 100 | 0.44900 s \n",
    "  2 | 35.00 | 13.6 | 14.0 | 10 | 618 | 1000 | 4.35963 s\n",
    "  2 | 35.00 | 13.6 | 14.0 | 10 | 618 | 1500 | 6.35155 s\n",
    "  64| 35.00 | 15.2 | 14.0 | 10 | 1364 | 100 | 23.47219 s\n",
    "  64| 35.00 | 15.2 | 14.0 | 10 | 1364 | 1000 | 3.5 min\n",
    "  64| 35.00 | 15.2 | 14.0 | 10 | 1364 | 1500 | 6,1 min\n",
    "  200 | 35.00 | 12.8 | 14.0 | 10 | 2720 | 100 | 4.7 min\n",
    "  200 | 35.00 | 12.8 | 14.0 | 10 | 2720 | 1000 | 46.5 min\n",
    "  200 | 35.00 | 12.8 | 14.0 | 10 | 2720 | 1500 | 68.4 min"
   ]
  },
  {
   "cell_type": "markdown",
   "metadata": {},
   "source": [
    "get_traj\n",
    "\n",
    " Number fo particles  | L [A]| r_cut_coulomb [A] | r_cut_LJ [A]| p_error | number k-vector | Steps | Time\n",
    "  -------------------- | -----|------------------ | ------------|---------|-----------------|-------| -------\n",
    "  2 | 35.00 | 13.6 | 14.0 | 10 | 618 | 100 |  1.53299 s\n",
    "  2 | 35.00 | 13.6 | 14.0 | 10 | 618 | 1000 | 14.71499 s\n",
    "  2 | 35.00 | 13.6 | 14.0 | 10 | 618 | 1500 | 22.42100 s\n",
    "  64| 35.00 | 15.2 | 14.0 | 10 | 1364 | 100 | 53.98399 s\n",
    "  64| 35.00 | 15.2 | 14.0 | 10 | 1364 | 1000 | 9 min\n",
    "  64| 35.00 | 15.2 | 14.0 | 10 | 1364 | 1500 | 13.1 min\n",
    "  200 | 35.00 | 12.8 | 14.0 | 10 | 2776 | 100 | 6.1 min"
   ]
  },
  {
   "cell_type": "markdown",
   "metadata": {},
   "source": [
    "Make tests and measure computing time, talk about it, what happens, what is output, maybe show input as well, show video on vmd\n",
    "\n",
    "maybe compute sth during presentation or prepare beforehand\n",
    "\n",
    "Basically show off (="
   ]
  },
  {
   "cell_type": "markdown",
   "metadata": {},
   "source": [
    "# Outlook"
   ]
  },
  {
   "cell_type": "markdown",
   "metadata": {},
   "source": [
    "- improve computing time by adding distance tensor ---> get rid of some for-loops\n",
    "\n",
    "- some other shit"
   ]
  },
  {
   "cell_type": "code",
   "execution_count": null,
   "metadata": {
    "collapsed": true
   },
   "outputs": [],
   "source": []
  }
 ],
 "metadata": {
  "anaconda-cloud": {},
  "kernelspec": {
   "display_name": "Python [conda root]",
   "language": "python",
   "name": "conda-root-py"
  },
  "language_info": {
   "codemirror_mode": {
    "name": "ipython",
    "version": 3
   },
   "file_extension": ".py",
   "mimetype": "text/x-python",
   "name": "python",
   "nbconvert_exporter": "python",
   "pygments_lexer": "ipython3",
   "version": "3.5.2"
  },
  "nbpresent": {
   "slides": {
    "93fc6761-5f75-48bd-a866-604c00d18784": {
     "id": "93fc6761-5f75-48bd-a866-604c00d18784",
     "prev": null,
     "regions": {}
    },
    "bd72db0f-3e71-4520-9271-333ecd186d35": {
     "id": "bd72db0f-3e71-4520-9271-333ecd186d35",
     "layout": "grid",
     "prev": "93fc6761-5f75-48bd-a866-604c00d18784",
     "regions": {}
    }
   },
   "themes": {}
  }
 },
 "nbformat": 4,
 "nbformat_minor": 1
}
