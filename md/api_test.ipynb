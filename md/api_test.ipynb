{
 "cells": [
  {
   "cell_type": "code",
   "execution_count": 1,
   "metadata": {
    "collapsed": false
   },
   "outputs": [],
   "source": [
    "import numpy as np\n",
    "from boxvectors import directions as directions\n",
    "import Initial_Parameters as ip\n",
    "from md import System\n",
    "from md import md\n",
    "from distribution import maxwellboltzmann\n",
    "import matplotlib.pyplot as plt\n",
    "from scipy.special import erf\n",
    "from scipy.special import erfc\n",
    "from scipy.constants import epsilon_0\n",
    "%matplotlib inline"
   ]
  },
  {
   "cell_type": "code",
   "execution_count": 3,
   "metadata": {
    "collapsed": false
   },
   "outputs": [],
   "source": [
    "Symbols = ip.Symbols\n",
    "Coefficients = ip.Coefficients\n",
    "Charges = ip.Charges\n",
    "N = ip.N*np.sum(Coefficients)\n",
    "L = ip.L\n",
    "T = ip.T\n",
    "dt = ip.dt\n",
    "p_rea = ip.p_rea\n",
    "p = ip.p\n",
    "std = ip.std\n",
    "k_cut = ip.k_cut\n",
    "k_max = ip.k_max_long_range\n",
    "n_boxes_LJ = ip.n_boxes_LJ\n",
    "n_boxes_coulomb = ip.n_boxes_short_range\n",
    "Sys= System(Symbols, Coefficients, Charges, N/2)\n",
    "Labels = Sys.get_Labels()\n",
    "Sigma, Epsilon = Sys.get_LJ_parameter()\n",
    "r_cut_coulomb = ip.r_cut_coulomb\n",
    "r_switch = ip.r_switch\n",
    "switch_parameter = ip.switch_parameter\n",
    "m = Labels[:,0]"
   ]
  },
  {
   "cell_type": "code",
   "execution_count": 4,
   "metadata": {
    "collapsed": false
   },
   "outputs": [],
   "source": [
    "def get_random_starting_Positions(N,L):\n",
    "    Positions = np.zeros((N,3))\n",
    "    Positions[:,0] = np.linspace(0.1/N,L[0],N, endpoint = False)\n",
    "    Positions[:,1] = np.linspace(0.1/N,L[1],N, endpoint = False)\n",
    "    Positions[:,2] = np.linspace(0.1/N,L[2],N, endpoint = False)\n",
    "    np.random.shuffle(Positions[:,0])\n",
    "    np.random.shuffle(Positions[:,1])\n",
    "    np.random.shuffle(Positions[:,2])\n",
    "    return Positions\n",
    "Positions = get_random_starting_Positions(N,L)\n",
    "Velocities = maxwellboltzmann().sample_distribution(N,m,T)\n",
    "Forces = np.zeros((N,3))\n",
    "R = np.linalg.norm(Positions,axis=1)"
   ]
  },
  {
   "cell_type": "code",
   "execution_count": 5,
   "metadata": {
    "collapsed": false
   },
   "outputs": [],
   "source": [
    "MD = md(\n",
    "    Positions, \n",
    "    R, \n",
    "    Labels, \n",
    "    Velocities,\n",
    "    Forces, \n",
    "    L, \n",
    "    T, \n",
    "    std, \n",
    "    Sigma, \n",
    "    Epsilon, \n",
    "    switch_parameter,\n",
    "    r_switch, \n",
    "    n_boxes_coulomb, \n",
    "    k_max, \n",
    "    dt, \n",
    "    p_rea,\n",
    "    k_cut,\n",
    "    r_cut_coulomb)\n"
   ]
  },
  {
   "cell_type": "code",
   "execution_count": 6,
   "metadata": {
    "collapsed": false
   },
   "outputs": [],
   "source": [
    "MD.forces = MD.get_forces()"
   ]
  },
  {
   "cell_type": "code",
   "execution_count": 8,
   "metadata": {
    "collapsed": false
   },
   "outputs": [
    {
     "name": "stdout",
     "output_type": "stream",
     "text": [
      "-8.07742261715e-26\n",
      "[  2.60127722e-08   2.64001889e-08   4.96370754e-08   1.79501964e-08\n",
      "   4.65098903e-08   4.13047149e-08   4.59768959e-09  -1.25148525e-08\n",
      "  -5.18033085e-09   3.63327790e-08  -1.47016773e-08  -2.64254123e-08\n",
      "  -3.74886483e-08   2.54594175e-09  -5.79888137e-08   8.69635040e-09\n",
      "  -6.49183962e-08   2.87470007e-08  -5.20527567e-08  -1.51004418e-08]\n",
      "[[  1.19072764e-25   2.50428023e-26   1.35516510e-26]\n",
      " [  3.69869115e-26  -8.44915867e-26   7.41521148e-26]\n",
      " [  6.11815657e-26   1.04878046e-25  -7.58902650e-26]\n",
      " [ -7.99577669e-26  -2.46430775e-25   2.86552436e-26]\n",
      " [  2.26243988e-25  -4.31284846e-26   2.28412089e-26]\n",
      " [ -1.31793100e-25   9.15622651e-26   8.37231248e-26]\n",
      " [ -1.30996740e-25   2.90002463e-25  -1.22512827e-25]\n",
      " [  7.54503160e-26  -4.68816676e-26   6.83627692e-26]\n",
      " [ -3.08468099e-25   2.00041063e-25   2.40356150e-25]\n",
      " [ -5.72828834e-26  -9.58310472e-26  -1.74361617e-25]\n",
      " [  1.21877109e-25  -2.44948221e-25  -1.04024424e-25]\n",
      " [ -1.65684994e-25   1.34527127e-25   8.11030714e-26]\n",
      " [ -2.32550949e-25  -2.72186687e-27  -2.61040657e-26]\n",
      " [  1.15814247e-25  -2.63846801e-25   1.36315396e-25]\n",
      " [  7.57852943e-26   5.41941473e-26  -3.10803279e-25]\n",
      " [ -5.18951655e-26   6.17997785e-26   5.87078548e-26]\n",
      " [ -1.94133693e-25   8.99708921e-26   1.21500943e-25]\n",
      " [  3.64983740e-26  -5.70763766e-26  -1.04243890e-25]\n",
      " [  2.61823886e-25  -2.69902338e-25  -9.94393055e-26]\n",
      " [  2.22028937e-25   3.03240580e-25   8.81101439e-26]]\n"
     ]
    }
   ],
   "source": [
    "print MD.get_energy()\n",
    "print MD.get_potential()\n",
    "print MD.forces"
   ]
  },
  {
   "cell_type": "code",
   "execution_count": null,
   "metadata": {
    "collapsed": false
   },
   "outputs": [],
   "source": [
    "Temperature = np.zeros(10)\n",
    "for i in np.arange(10):\n",
    "    Positions_New, Velocities_New, Forces_New = MD.propagte_system()\n",
    "    MD.positions = Positions_New\n",
    "    MD.velocities = Velocities_New\n",
    "    MD.forces = Forces_New\n",
    "    Temperature[i] = MD.get_Temperature()\n",
    "plt.plot(Temperature)"
   ]
  }
 ],
 "metadata": {
  "anaconda-cloud": {},
  "kernelspec": {
   "display_name": "Python [conda root]",
   "language": "python",
   "name": "conda-root-py"
  },
  "language_info": {
   "codemirror_mode": {
    "name": "ipython",
    "version": 2
   },
   "file_extension": ".py",
   "mimetype": "text/x-python",
   "name": "python",
   "nbconvert_exporter": "python",
   "pygments_lexer": "ipython2",
   "version": "2.7.12"
  }
 },
 "nbformat": 4,
 "nbformat_minor": 1
}
