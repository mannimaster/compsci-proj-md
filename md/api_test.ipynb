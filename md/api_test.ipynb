{
 "cells": [
  {
   "cell_type": "code",
   "execution_count": 1,
   "metadata": {
    "collapsed": false
   },
   "outputs": [],
   "source": [
    "import numpy as np\n",
    "from boxvectors import directions as directions\n",
    "import Initial_Parameters as ip\n",
    "from md import System\n",
    "from md import md\n",
    "from distribution import maxwellboltzmann\n",
    "import matplotlib.pyplot as plt\n",
    "from scipy.special import erf\n",
    "from scipy.special import erfc\n",
    "from scipy.constants import epsilon_0\n",
    "%matplotlib inline"
   ]
  },
  {
   "cell_type": "code",
   "execution_count": 2,
   "metadata": {
    "collapsed": false
   },
   "outputs": [],
   "source": [
    "Symbols = ip.Symbols\n",
    "Coefficients = ip.Coefficients\n",
    "Charges = ip.Charges\n",
    "N = ip.N*np.sum(Coefficients)\n",
    "L = ip.L\n",
    "T = ip.T\n",
    "dt = ip.dt\n",
    "p_rea = ip.p_rea\n",
    "p = ip.p\n",
    "std = ip.std\n",
    "k_cut = ip.k_cut\n",
    "k_max = ip.k_max_long_range\n",
    "n_boxes_LJ = ip.n_boxes_LJ\n",
    "n_boxes_coulomb = ip.n_boxes_short_range\n",
    "Sys= System(Symbols, Coefficients, Charges, N/2)\n",
    "Labels = Sys.get_Labels()\n",
    "Sigma, Epsilon = Sys.get_LJ_parameter()\n",
    "\n",
    "m = Labels[:,0]"
   ]
  },
  {
   "cell_type": "code",
   "execution_count": 3,
   "metadata": {
    "collapsed": true
   },
   "outputs": [],
   "source": [
    "switch_parameter = np.array([1,-1,0,0])\n",
    "r_switch = 1.5"
   ]
  },
  {
   "cell_type": "code",
   "execution_count": 4,
   "metadata": {
    "collapsed": false
   },
   "outputs": [],
   "source": [
    "def get_random_starting_Positions(N,L):\n",
    "    Positions = np.zeros((N,3))\n",
    "    Positions[:,0] = np.linspace(0.1/N,L[0],N, endpoint = False)\n",
    "    Positions[:,1] = np.linspace(0.1/N,L[1],N, endpoint = False)\n",
    "    Positions[:,2] = np.linspace(0.1/N,L[2],N, endpoint = False)\n",
    "    np.random.shuffle(Positions[:,0])\n",
    "    np.random.shuffle(Positions[:,1])\n",
    "    np.random.shuffle(Positions[:,2])\n",
    "    return Positions\n",
    "Positions = get_random_starting_Positions(N,L)\n",
    "Velocities = maxwellboltzmann().sample_distribution(N,m,T)\n",
    "Forces = np.zeros((N,3))\n",
    "R = np.linalg.norm(Positions,axis=1)"
   ]
  },
  {
   "cell_type": "code",
   "execution_count": 5,
   "metadata": {
    "collapsed": false
   },
   "outputs": [],
   "source": [
    "MD = md(\n",
    "    Positions, \n",
    "    R, \n",
    "    Labels, \n",
    "    Velocities,\n",
    "    Forces, \n",
    "    L, \n",
    "    T, \n",
    "    std, \n",
    "    Sigma, \n",
    "    Epsilon, \n",
    "    switch_parameter,\n",
    "    r_switch, \n",
    "    n_boxes_coulomb, \n",
    "    k_max, \n",
    "    dt, \n",
    "    p_rea,\n",
    "    k_cut)\n"
   ]
  },
  {
   "cell_type": "code",
   "execution_count": 6,
   "metadata": {
    "collapsed": false
   },
   "outputs": [],
   "source": [
    "MD.forces = MD.get_forces()"
   ]
  },
  {
   "cell_type": "code",
   "execution_count": 12,
   "metadata": {
    "collapsed": false
   },
   "outputs": [
    {
     "data": {
      "text/plain": [
       "[<matplotlib.lines.Line2D at 0x83ac3c8>]"
      ]
     },
     "execution_count": 12,
     "metadata": {},
     "output_type": "execute_result"
    },
    {
     "data": {
      "image/png": "[encoded data removed]",
      "text/plain": [
       "<matplotlib.figure.Figure at 0x7d98b00>"
      ]
     },
     "metadata": {},
     "output_type": "display_data"
    }
   ],
   "source": [
    "Temperature = np.zeros(10)\n",
    "for i in np.arange(10):\n",
    "    Positions_New, Velocities_New, Forces_New = MD.propagte_system()\n",
    "    MD.positions = Positions_New\n",
    "    MD.velocities = Velocities_New\n",
    "    MD.forces = Forces_New\n",
    "    Temperature[i] = MD.get_Temperature()\n",
    "plt.plot(Temperature)"
   ]
  },
  {
   "cell_type": "code",
   "execution_count": 28,
   "metadata": {
    "collapsed": false
   },
   "outputs": [],
   "source": [
    "assert np.all((np.identity(3)).transpose() == np.identity(3))"
   ]
  },
  {
   "cell_type": "markdown",
   "metadata": {},
   "source": [
    "## How to Save trajectory frame in xyz format (no header)"
   ]
  },
  {
   "cell_type": "code",
   "execution_count": 115,
   "metadata": {
    "collapsed": false
   },
   "outputs": [],
   "source": [
    "frame = np.zeros((N), dtype=[('var1', 'S6'), ('var2', 'float64'), ('var3', 'float64'), ('var4', 'float64')])\n",
    "frame['var1'] = Symbols[Labels[:,2].astype(int)]\n",
    "frame['var2'] = MD.positions[:,0]\n",
    "frame['var3'] = MD.positions[:,1]\n",
    "frame['var4'] = MD.positions[:,2]\n",
    "\n",
    "myfile = open(\"positions.txt\",'a')\n",
    "np.savetxt(myfile,frame, fmt = ('%.10s %.32e %.32e %.32e'))\n",
    "myfile.close()"
   ]
  }
 ],
 "metadata": {
  "anaconda-cloud": {},
  "kernelspec": {
   "display_name": "Python [conda root]",
   "language": "python",
   "name": "conda-root-py"
  },
  "language_info": {
   "codemirror_mode": {
    "name": "ipython",
    "version": 2
   },
   "file_extension": ".py",
   "mimetype": "text/x-python",
   "name": "python",
   "nbconvert_exporter": "python",
   "pygments_lexer": "ipython2",
   "version": "2.7.12"
  }
 },
 "nbformat": 4,
 "nbformat_minor": 1
}
