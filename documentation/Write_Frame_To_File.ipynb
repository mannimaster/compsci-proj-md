{
 "cells": [
  {
   "cell_type": "code",
   "execution_count": 20,
   "metadata": {
    "collapsed": false
   },
   "outputs": [
    {
     "name": "stdout",
     "output_type": "stream",
     "text": [
      "[[ 2.  2.]\n",
      " [ 2.  2.]]\n",
      "[[ 2.  2.]\n",
      " [ 2.  2.]]\n",
      "[[ 2.  2.]\n",
      " [ 2.  2.]]\n"
     ]
    }
   ],
   "source": [
    "import numpy as np\n",
    "\n",
    "#creates a dummy array -> 3D matrix has similiar handling like trajectory\n",
    "array=np.zeros((3,2,2))\n",
    "array[1,:,:]=np.ones((2,2))\n",
    "array[2,:,:]=2*np.ones((2,2))\n",
    "\n",
    "\n",
    "#iterates through a frame and writes the frame to a file\n",
    "for arriteration in range(array.shape[0]):\n",
    "    #opens a file called filename.txt with append-mode\n",
    "    #if the file does not exist, then it will be created automatically\n",
    "    file = open('filename.txt','a')\n",
    "    #appends the frame to the last position of the file\n",
    "    file.write(str(array[arriteration,:,:]) + \"\\n\")\n",
    "    #closes the file to demonstrate, that the write method appends the frame and do not overwrite\n",
    "    file.close()\n"
   ]
  },
  {
   "cell_type": "code",
   "execution_count": null,
   "metadata": {
    "collapsed": true
   },
   "outputs": [],
   "source": []
  }
 ],
 "metadata": {
  "anaconda-cloud": {},
  "kernelspec": {
   "display_name": "Python [default]",
   "language": "python",
   "name": "python3"
  },
  "language_info": {
   "codemirror_mode": {
    "name": "ipython",
    "version": 3
   },
   "file_extension": ".py",
   "mimetype": "text/x-python",
   "name": "python",
   "nbconvert_exporter": "python",
   "pygments_lexer": "ipython3",
   "version": "3.5.2"
  }
 },
 "nbformat": 4,
 "nbformat_minor": 1
}
