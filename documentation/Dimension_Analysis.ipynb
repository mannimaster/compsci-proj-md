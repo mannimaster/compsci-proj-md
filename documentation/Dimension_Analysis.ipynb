{
 "cells": [
  {
   "cell_type": "code",
   "execution_count": 31,
   "metadata": {
    "collapsed": false
   },
   "outputs": [
    {
     "data": {
      "text/latex": [
       "\\begin{align}\n",
       "length: [L] = \\mathring A \\equiv 10^{-10} m \\newline\n",
       "energy: [E] = \\frac{kcal}{Mol} \\equiv 6.947857855 \\cdot 10^{-21} J \\newline\n",
       "mass: [m] = \\frac{g}{Mol} \\equiv 1,66057788 \\cdot 10^{-24} g\\newline\n",
       "temperature: [T] = K\\newline\n",
       "time: [t] = 48.88821 \\cdot 10^{-15} s\\newline\n",
       "velocity: [v] = \\frac{\\mathring A}{48.88821 \\cdot 10^{-15} s} \\equiv 2045.48295 \\frac{m}{s} \\newline\n",
       "boltzmann: [kb] = 0.001987191 \\frac{kcal}{K \\cdot Mol} \\newline\n",
       "\\newline\n",
       "charge:[q] = e \\equiv 1.602 \\cdot 10^{-19} As\\newline\n",
       "potential: [phi] = \\frac{E}{q} = \\frac{kcal}{Mol \\cdot e} \\equiv 0.043369899 V\\newline\n",
       "epsilon0: [e0] = \\frac{E}{phi^{2} \\cdot L} = \\frac{kcal \\cdot Mol^{2} \\cdot e^{2}}{Mol \\cdot kcal^{2} \\cdot \n",
       "                    \\mathring A} \\equiv 36.9380614 \\cdot 10^{-9} \\frac{As}{Vm} \\newline\n",
       "\n",
       "\\end{align}"
      ],
      "text/plain": [
       "<IPython.core.display.Latex object>"
      ]
     },
     "metadata": {},
     "output_type": "display_data"
    }
   ],
   "source": [
    "%%latex\n",
    "\\begin{align}\n",
    "length: [L] = \\mathring A \\equiv 10^{-10} m \\newline\n",
    "energy: [E] = \\frac{kcal}{Mol} \\equiv 6.947857855 \\cdot 10^{-21} J \\newline\n",
    "mass: [m] = \\frac{g}{Mol} \\equiv 1,66057788 \\cdot 10^{-24} g\\newline\n",
    "temperature: [T] = K\\newline\n",
    "time: [t] = 48.88821 \\cdot 10^{-15} s\\newline\n",
    "velocity: [v] = \\frac{\\mathring A}{48.88821 \\cdot 10^{-15} s} \\equiv 2045.48295 \\frac{m}{s} \\newline\n",
    "boltzmann: [kb] = 0.001987191 \\frac{kcal}{K \\cdot Mol} \\newline\n",
    "\\newline\n",
    "charge:[q] = e \\equiv 1.602 \\cdot 10^{-19} As\\newline\n",
    "potential: [phi] = \\frac{E}{q} = \\frac{kcal}{Mol \\cdot e} \\equiv 0.043369899 V\\newline\n",
    "epsilon0: [e0] = \\frac{E}{phi^{2} \\cdot L} = \\frac{kcal \\cdot Mol^{2} \\cdot e^{2}}{Mol \\cdot kcal^{2} \\cdot \n",
    "                    \\mathring A} \\equiv 36.9380614 \\cdot 10^{-9} \\frac{As}{Vm} \\newline\n",
    "\n",
    "\\end{align}\n"
   ]
  },
  {
   "cell_type": "code",
   "execution_count": null,
   "metadata": {
    "collapsed": false
   },
   "outputs": [],
   "source": []
  }
 ],
 "metadata": {
  "anaconda-cloud": {},
  "kernelspec": {
   "display_name": "Python [conda root]",
   "language": "python",
   "name": "conda-root-py"
  },
  "language_info": {
   "codemirror_mode": {
    "name": "ipython",
    "version": 3
   },
   "file_extension": ".py",
   "mimetype": "text/x-python",
   "name": "python",
   "nbconvert_exporter": "python",
   "pygments_lexer": "ipython3",
   "version": "3.5.2"
  }
 },
 "nbformat": 4,
 "nbformat_minor": 1
}
